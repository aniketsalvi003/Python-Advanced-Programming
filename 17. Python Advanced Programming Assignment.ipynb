{
 "cells": [
  {
   "cell_type": "markdown",
   "metadata": {},
   "source": [
    "# 17. Python Advanced Programming Assignment"
   ]
  },
  {
   "cell_type": "markdown",
   "metadata": {},
   "source": [
    "1. Create a function that transposes a 2D matrix.\n",
    "\n",
    "Examples\n",
    "\n",
    "transpose_matrix([\n",
    "  [1, 1, 1],\n",
    "  [2, 2, 2],\n",
    "  [3, 3, 3]\n",
    "]) ➞ [\n",
    "  [1, 2, 3],\n",
    "  [1, 2, 3],\n",
    "  [1, 2, 3]\n",
    "]\n",
    "\n",
    "transpose_matrix([\n",
    "  [5, 5],\n",
    "  [6, 7],\n",
    "  [9, 1]\n",
    "]) ➞ [\n",
    "  [5, 6, 9],\n",
    "  [5, 7, 1]\n",
    "]\n"
   ]
  },
  {
   "cell_type": "code",
   "execution_count": 1,
   "metadata": {},
   "outputs": [
    {
     "data": {
      "text/plain": [
       "[[1, 2, 3], [1, 2, 3], [1, 2, 3]]"
      ]
     },
     "execution_count": 1,
     "metadata": {},
     "output_type": "execute_result"
    }
   ],
   "source": [
    "def transpose_matrix(l1):\n",
    "    l2=[]\n",
    "    \n",
    "    for i in range(len(l1[0])):\n",
    "        row =[]\n",
    "        for item in l1:\n",
    "            row.append(item[i])\n",
    "        l2.append(row)\n",
    "    return l2\n",
    "\n",
    "transpose_matrix([ [1, 1, 1], [2, 2, 2], [3, 3, 3] ])"
   ]
  },
  {
   "cell_type": "markdown",
   "metadata": {},
   "source": [
    "2. Create a function that determines whether a string is a valid hex code.\n",
    "\n",
    "A hex code must begin with a pound key # and is exactly 6 characters in length. Each character must be a digit from 0-9 or an alphabetic character from A-F. All alphabetic characters may be uppercase or lowercase.\n",
    "\n",
    "Examples\n",
    "\n",
    "is_valid_hex_code(\"#CD5C5C\") ➞ True\n",
    "\n",
    "is_valid_hex_code(\"#EAECEE\") ➞ True\n",
    "\n",
    "is_valid_hex_code(\"#eaecee\") ➞ True\n",
    "\n",
    "is_valid_hex_code(\"#CD5C58C\") ➞ False\n",
    " Length exceeds 6\n",
    "\n",
    "is_valid_hex_code(\"#CD5C5Z\") ➞ False\n",
    "Not all alphabetic characters in A-F\n",
    "\n",
    "is_valid_hex_code(\"#CD5C&C\") ➞ False\n",
    "Contains unacceptable character\n",
    "\n",
    "is_valid_hex_code(\"CD5C5C\") ➞ False\n",
    "Missing \n"
   ]
  },
  {
   "cell_type": "code",
   "execution_count": 9,
   "metadata": {},
   "outputs": [
    {
     "data": {
      "text/plain": [
       "False"
      ]
     },
     "execution_count": 9,
     "metadata": {},
     "output_type": "execute_result"
    }
   ],
   "source": [
    "def is_valid_hex_code(hexcode):\n",
    "    output=True\n",
    "\n",
    "    if len(hexcode)!= 7:\n",
    "        output= False\n",
    "        \n",
    "    elif hexcode[0]!=\"#\":\n",
    "        output= False\n",
    "        \n",
    "    for i in range(len(hexcode)-1,1,-1):\n",
    "        if hexcode[i].isalnum()==True:\n",
    "            pass\n",
    "        else:\n",
    "            output=False\n",
    "    \n",
    "    return output\n",
    "\n",
    "is_valid_hex_code(\"#CD5C&C\")"
   ]
  },
  {
   "cell_type": "markdown",
   "metadata": {},
   "source": [
    "3. Given a list of math equations (given as strings), return the percentage of correct answers as a string. Round to the nearest whole number.\n",
    "\n",
    "Examples\n",
    "\n",
    "mark_maths([\"2+2=4\", \"3+2=5\", \"10-3=3\", \"5+5=10\"]) ➞ \"75%\"\n",
    "\n",
    "mark_maths([\"1-2=-2\"]), \"0%\"\n",
    "\n",
    "mark_maths([\"2+3=5\", \"4+4=9\", \"3-1=2\"]) ➞ \"67%\"\n",
    "\n"
   ]
  },
  {
   "cell_type": "code",
   "execution_count": 20,
   "metadata": {},
   "outputs": [
    {
     "name": "stdout",
     "output_type": "stream",
     "text": [
      "4 4\n",
      "5 5\n",
      "7 3\n",
      "10 10\n"
     ]
    },
    {
     "data": {
      "text/plain": [
       "75"
      ]
     },
     "execution_count": 20,
     "metadata": {},
     "output_type": "execute_result"
    }
   ],
   "source": [
    "def mark_maths(equations):\n",
    "    no_of_equations=len(equations)\n",
    "    correct=0\n",
    "    for equation in equations:\n",
    "        evaluate=equation.split(\"=\")\n",
    "    \n",
    "        if eval(evaluate[0])==int(evaluate[1]):\n",
    "            correct+=1\n",
    "        \n",
    "    return round(correct/no_of_equations*100)\n",
    "        \n",
    "mark_maths([\"2+2=4\", \"3+2=5\", \"10-3=3\", \"5+5=10\"]) "
   ]
  },
  {
   "cell_type": "markdown",
   "metadata": {},
   "source": [
    "4. There are two players, Alice and Bob, each with a 3-by-3 grid. A referee tells Alice to fill out one particular row in the grid (say the second row) by putting either a 1 or a 0 in each box, such that the sum of the numbers in that row is odd. The referee tells Bob to fill out one column in the grid (say the first column) by putting either a 1 or a 0 in each box, such that the sum of the numbers in that column is even.\n",
    "\n",
    "Alice and Bob win the game if Alice’s numbers give an odd sum, Bob’s give an even sum, and (most important) they’ve each written down the same number in the one square where their row and column intersect.\n",
    "\n",
    "Examples\n",
    "\n",
    "magic_square_game([2, \"100\"], [1, \"101\"]) ➞ False\n",
    "\n",
    "magic_square_game([2, \"001\"], [1, \"101\"]) ➞ True\n",
    "\n",
    "magic_square_game([3, \"111\"], [2, \"011\"]) ➞ True\n",
    "\n",
    "magic_square_game([1, \"010\"], [3, \"101\"]) ➞ False\n",
    "\n",
    "Two lists, Alice [row, \"her choice\"], Bob [column, \"his choice\"]\n"
   ]
  },
  {
   "cell_type": "code",
   "execution_count": 25,
   "metadata": {},
   "outputs": [
    {
     "data": {
      "text/plain": [
       "True"
      ]
     },
     "execution_count": 25,
     "metadata": {},
     "output_type": "execute_result"
    }
   ],
   "source": [
    "def magic_square_game(alice,bob):\n",
    "    alice_sum=0\n",
    "    bob_sum=0\n",
    "    \n",
    "    for char in alice[1]:\n",
    "        alice_sum=alice_sum+int(char)\n",
    "        \n",
    "    for char in bob[1]:\n",
    "        bob_sum=bob_sum+int(char)\n",
    "        \n",
    "    if alice_sum%2 !=0 and bob_sum%2==0:\n",
    "        output=True\n",
    "        \n",
    "    else:\n",
    "        output = False\n",
    "        \n",
    "    return output\n",
    "\n",
    "magic_square_game([2, \"001\"], [1, \"101\"]) "
   ]
  },
  {
   "cell_type": "markdown",
   "metadata": {},
   "source": [
    "5. From point A, an object is moving towards point B at constant velocity va (in km/hr). From point B, another object is moving towards point A at constant velocity vb (in km/hr). Knowing this and the distance between point A and B (in km), write a function that returns how much time passes until both objects meet.\n",
    "\n",
    "Format the output like this:\n",
    "\n",
    "\"2h 23min 34s\"\n",
    "\n",
    "Examples\n",
    "\n",
    "lets_meet(100, 10, 30) ➞ \"2h 30min 0s\"\n",
    "\n",
    "lets_meet(280, 70, 80) ➞ \"1h 52min 0s\"\n",
    "\n",
    "lets_meet(90, 75, 65) ➞ \"0h 38min 34s\""
   ]
  },
  {
   "cell_type": "code",
   "execution_count": 45,
   "metadata": {},
   "outputs": [
    {
     "name": "stdout",
     "output_type": "stream",
     "text": [
      "1 h 52 min 0 s\n"
     ]
    }
   ],
   "source": [
    "import math\n",
    "def lets_meet(dist,va,vb):\n",
    "    \n",
    "    time=dist/(va+vb)\n",
    "    \n",
    "    hrs=math.floor(time)\n",
    "    mins= math.floor((time - hrs)*60)\n",
    "    secs= math.floor((((time - hrs)*60)-mins) *60)\n",
    "    print(hrs, \"h\" ,mins ,\"min\", secs ,\"s\")\n",
    "\n",
    "lets_meet(280, 70, 80)"
   ]
  }
 ],
 "metadata": {
  "kernelspec": {
   "display_name": "Python 3",
   "language": "python",
   "name": "python3"
  },
  "language_info": {
   "codemirror_mode": {
    "name": "ipython",
    "version": 3
   },
   "file_extension": ".py",
   "mimetype": "text/x-python",
   "name": "python",
   "nbconvert_exporter": "python",
   "pygments_lexer": "ipython3",
   "version": "3.8.5"
  }
 },
 "nbformat": 4,
 "nbformat_minor": 4
}
