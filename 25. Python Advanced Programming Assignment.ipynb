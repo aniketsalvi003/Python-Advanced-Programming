{
 "cells": [
  {
   "cell_type": "markdown",
   "metadata": {},
   "source": [
    "# 25. Python Advanced Programming Assignment"
   ]
  },
  {
   "cell_type": "markdown",
   "metadata": {},
   "source": [
    "1. Write four functions that directly mutate a list:\n",
    "\n",
    "    1. repeat(lst, n): Repeat lst n times.\n",
    "    2. add(lst, x): Adds x to the end of the lst.\n",
    "    3. remove(lst, m, n): Removes all elements between indices m and n inclusive in lst.\n",
    "    4. concat(lst, x): concatenates lst with x (another list)."
   ]
  },
  {
   "cell_type": "code",
   "execution_count": 16,
   "metadata": {},
   "outputs": [
    {
     "name": "stdout",
     "output_type": "stream",
     "text": [
      "[1, 2, 3, 4, 1, 2, 3, 4, 1, 2, 3, 4, 1, 2, 3, 4]\n",
      "[1, 2, 3, 4, 4]\n",
      "[1, 3, 4, 4]\n",
      "[1, 3, 4, 4, 1, 2, 3]\n"
     ]
    }
   ],
   "source": [
    "def repeat(lst,n):\n",
    "    return lst*n\n",
    "    \n",
    "def add(lst,x):\n",
    "    lst.append(x)\n",
    "    return lst\n",
    "def remove(lst,m,n):\n",
    "    if m > len(lst) or n > len(lst):\n",
    "        return \"Invaltid indices\"\n",
    "    else :\n",
    "        del lst[m:n]\n",
    "        return lst\n",
    "    \n",
    "def concat(lst, x):\n",
    "    lst.extend(x)\n",
    "    return lst\n",
    "\n",
    "lst=[1, 2, 3, 4]\n",
    "print(repeat(lst,4))\n",
    "print(add(lst,4))\n",
    "print(remove(lst,1,2))\n",
    "print(concat(lst, [1,2,3]))"
   ]
  },
  {
   "cell_type": "markdown",
   "metadata": {},
   "source": [
    "2. The classic game of Mastermind is played on a tray on which the Mastermind conceals a code and the Guesser has 10 tries to guess it. The code is a sequence of 4 (or 6, sometimes more) pegs of different colors. Each guess is a corresponding sequence of 4 (or more) pegs of different colors. A guess is \"correct\" when the color of every peg in the guess exactly matches the corresponding peg in the Mastermind's code.\n",
    "\n",
    "After each guess by the Guesser, the Mastermind will give a score comprising black & white pegs, not arranged in any order:\n",
    "\n",
    "   - Black peg == guess peg matches the color of a code peg in the same position.\n",
    "   - White peg == guess peg matches the color of a code peg in another position.\n",
    "\n",
    "Create a function that takes two strings, code and guess as arguments, and returns the score in a dictionary.\n",
    "\n",
    "   - The code and guess are strings of numeric digits\n",
    "   - The color of the pegs are represented by numeric digits\n",
    "   - no \"peg\" may be double-scored\n"
   ]
  },
  {
   "cell_type": "code",
   "execution_count": 24,
   "metadata": {},
   "outputs": [
    {
     "data": {
      "text/plain": [
       "{'black': 0, 'white': 1}"
      ]
     },
     "execution_count": 24,
     "metadata": {},
     "output_type": "execute_result"
    }
   ],
   "source": [
    "def guess_score(code,guess):\n",
    "    code_list=[]\n",
    "    guess_list=[]\n",
    "    \n",
    "    code_list[:0]=code\n",
    "    guess_list[:0]=guess\n",
    "    \n",
    "    black=0\n",
    "    white=0\n",
    "    \n",
    "    for g in set(guess_list):\n",
    "        if g in code:\n",
    "            if code_list.index(g)==guess_list.index(g):\n",
    "                black+=1\n",
    "            else:\n",
    "                white+=1\n",
    "    \n",
    "    return {\"black\":black, \"white\":white}\n",
    "    \n",
    "guess_score(\"1423\", \"2222\")  "
   ]
  },
  {
   "cell_type": "markdown",
   "metadata": {},
   "source": [
    "3. Create a function that takes a list lst and a number N and returns a list of two integers from lst whose product equals N."
   ]
  },
  {
   "cell_type": "code",
   "execution_count": 28,
   "metadata": {},
   "outputs": [
    {
     "data": {
      "text/plain": [
       "[2, 5]"
      ]
     },
     "execution_count": 28,
     "metadata": {},
     "output_type": "execute_result"
    }
   ],
   "source": [
    "def two_product(lst,N):\n",
    "    output=[]\n",
    "    for i in lst:\n",
    "        for j in lst:\n",
    "            if(i*j)==N:\n",
    "                output.extend([i,j])\n",
    "                \n",
    "    return list(set(output))\n",
    "\n",
    "two_product([1, 2, 3, 4, 5], 10)            "
   ]
  },
  {
   "cell_type": "markdown",
   "metadata": {},
   "source": [
    "4. In this challenge, sort a list containing a series of dates given as strings. Each date is given in the format DD-MM-YYYY_HH:MM:\n",
    "\n",
    "\"12-02-2012_13:44\"\n",
    "\n",
    "The priority of criteria used for sorting will be:\n",
    "\n",
    "  - Year\n",
    "  - Month\n",
    "  - Day\n",
    "  - Hours\n",
    "  - Minutes\n",
    "\n",
    "Given a list lst and a string mode, implement a function that returns:\n",
    "\n",
    "   - if mode is equal to \"ASC\", the list lst sorted in ascending order.\n",
    "   - if mode is equal to \"DSC\", the list lst sorted in descending order."
   ]
  },
  {
   "cell_type": "code",
   "execution_count": 34,
   "metadata": {},
   "outputs": [
    {
     "name": "stdout",
     "output_type": "stream",
     "text": [
      "['10-02-2016_12:30', '10-02-2018_12:15', '10-02-2018_12:30']\n",
      "['10-02-2018_12:30', '10-02-2018_12:15', '10-02-2016_12:30']\n"
     ]
    }
   ],
   "source": [
    "from datetime import datetime\n",
    "\n",
    "def sort_dates(dates,mode):\n",
    "    if mode==\"ASC\":\n",
    "        dates.sort(key = lambda date: datetime.strptime(date, '%d-%m-%Y_%H:%M'))\n",
    "        return dates\n",
    "    else:\n",
    "        dates.sort(key = lambda date: datetime.strptime(date, '%d-%m-%Y_%H:%M'), reverse=True)\n",
    "        return dates\n",
    "\n",
    "print(sort_dates([\"10-02-2018_12:30\", \"10-02-2016_12:30\", \"10-02-2018_12:15\"], \"ASC\") )\n",
    "print(sort_dates([\"10-02-2018_12:30\", \"10-02-2016_12:30\", \"10-02-2018_12:15\"], \"DSC\") )"
   ]
  },
  {
   "cell_type": "markdown",
   "metadata": {},
   "source": [
    "5. Write a function that selects all words that have all the same vowels (in any order and/or number) as the first word, including the first word."
   ]
  },
  {
   "cell_type": "code",
   "execution_count": 47,
   "metadata": {},
   "outputs": [
    {
     "name": "stdout",
     "output_type": "stream",
     "text": [
      "['toe', 'ocelot']\n"
     ]
    }
   ],
   "source": [
    "def same_vowel_group(words):\n",
    "    first=words[0]\n",
    "    first_vowels=[]\n",
    "    for i in first:\n",
    "        if i.lower() in 'aeiou':\n",
    "            first_vowels.append(i)\n",
    "            \n",
    "    output=[words[0]]\n",
    "    \n",
    "    for word in words[1:len(words)]:\n",
    "        count=0\n",
    "        for ele in first_vowels:\n",
    "            if ele in word:\n",
    "                count+=1\n",
    "        if count==len(first_vowels):\n",
    "            output.append(word)\n",
    "            \n",
    "    print(output)\n",
    "                    \n",
    "same_vowel_group([\"toe\", \"ocelot\", \"maniac\"])"
   ]
  },
  {
   "cell_type": "markdown",
   "metadata": {},
   "source": [
    "6. Create a function that takes a list of more than three numbers and returns the Least Common Multiple (LCM)."
   ]
  },
  {
   "cell_type": "code",
   "execution_count": 48,
   "metadata": {},
   "outputs": [
    {
     "name": "stdout",
     "output_type": "stream",
     "text": [
      "2520\n"
     ]
    }
   ],
   "source": [
    "from math import gcd\n",
    "def lcm_of_list(num_list):\n",
    "    lcm=1\n",
    "    for num in num_list:\n",
    "        lcm=(lcm*num)//gcd(lcm,num)\n",
    "    print(lcm)\n",
    "    \n",
    "lcm_of_list([1, 2, 3, 4, 5, 6, 7, 8, 9, 10]) "
   ]
  }
 ],
 "metadata": {
  "kernelspec": {
   "display_name": "Python 3",
   "language": "python",
   "name": "python3"
  },
  "language_info": {
   "codemirror_mode": {
    "name": "ipython",
    "version": 3
   },
   "file_extension": ".py",
   "mimetype": "text/x-python",
   "name": "python",
   "nbconvert_exporter": "python",
   "pygments_lexer": "ipython3",
   "version": "3.8.5"
  }
 },
 "nbformat": 4,
 "nbformat_minor": 4
}
