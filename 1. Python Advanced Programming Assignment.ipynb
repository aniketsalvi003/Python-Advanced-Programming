{
 "cells": [
  {
   "cell_type": "markdown",
   "metadata": {},
   "source": [
    "# 1. Python Advanced Programming Assignment"
   ]
  },
  {
   "cell_type": "markdown",
   "metadata": {},
   "source": [
    "### Q1. Write a function that takes a list of lists and returns the value of all of the symbols in it, where each symbol adds or takes something from the total score. Symbol values:\n",
    "\n",
    "#= 5\n",
    "O = 3\n",
    "X = 1\n",
    "! = -1\n",
    "!! = -3\n",
    "!!! = -5\n",
    "\n",
    "A list of lists containing 2 #s, a O, and a !!! would equal (0 + 5 + 5 + 3 - 5) 8.\n",
    "\n",
    "If the final score is negative, return 0 (e.g. 3 #s, 3 !!s, 2 !!!s and a X would be (0 + 5 + 5 + 5 - 3 - 3 - 3 - 5 - 5 + 1) -3, so return 0.\n",
    "\n",
    "Examples\n",
    "\n",
    "check_score([\n",
    "  [\"#\", \"!\"],\n",
    "  [\"!!\", \"X\"]\n",
    "]) ➞ 2\n",
    "\n",
    "check_score([\n",
    "  [\"!!!\", \"O\", \"!\"],\n",
    "  [\"X\", \"#\", \"!!!\"],\n",
    "  [\"!!\", \"X\", \"O\"]\n",
    "]) ➞ 0\n"
   ]
  },
  {
   "cell_type": "code",
   "execution_count": 6,
   "metadata": {},
   "outputs": [
    {
     "name": "stdout",
     "output_type": "stream",
     "text": [
      "For [ [\"#\", \"!\"], [\"!!\", \"X\"] ] score is 2\n",
      "For [ [\"!!!\", \"O\", \"!\"], [\"X\", \"#\", \"!!!\"], [\"!!\", \"X\", \"O\"] ] score is -1\n"
     ]
    }
   ],
   "source": [
    "# Creating Key value pairs for symbols\n",
    "dict_sys={'#':5, \"O\" :3, \"X\":1,\"!\":-1, \"!!\":-3,\"!!!\":-5}\n",
    "    \n",
    "#function to calculate sum \n",
    "def check_score(check):\n",
    "    total_sum=0\n",
    "    for i in check:\n",
    "        for j in i:\n",
    "            total_sum+=dict_sys[j]\n",
    "    return total_sum\n",
    "\n",
    "check= [ [\"#\", \"!\"], [\"!!\", \"X\"] ]\n",
    "\n",
    "print( 'For [ [\"#\", \"!\"], [\"!!\", \"X\"] ] score is', check_score(check))\n",
    "\n",
    "check= [ [\"!!!\", \"O\", \"!\"], [\"X\", \"#\", \"!!!\"], [\"!!\", \"X\", \"O\"] ]\n",
    "\n",
    "print('For [ [\"!!!\", \"O\", \"!\"], [\"X\", \"#\", \"!!!\"], [\"!!\", \"X\", \"O\"] ] score is', check_score(check) )\n",
    "        "
   ]
  },
  {
   "cell_type": "markdown",
   "metadata": {},
   "source": [
    "### Q2. Create a function that takes a variable number of arguments, each argument representing the number of items in a group, and returns the number of permutations (combinations) of items that you could get by taking one item from each group.\n",
    "\n",
    "Examples\n",
    "\n",
    "combinations(2, 3) ➞ 6\n",
    "\n",
    "combinations(3, 7, 4) ➞ 84\n",
    "\n",
    "combinations(2, 3, 4, 5) ➞ 120\n"
   ]
  },
  {
   "cell_type": "code",
   "execution_count": 8,
   "metadata": {},
   "outputs": [
    {
     "name": "stdout",
     "output_type": "stream",
     "text": [
      "Result for combinations(2, 3)  6\n",
      "Result for combinations(3, 7, 4)  84\n",
      "Result for combinations(2, 3, 4, 5)  120\n"
     ]
    }
   ],
   "source": [
    "def combinations(*args):\n",
    "    mul=1\n",
    "    for i in args:\n",
    "        mul *= i\n",
    "    return mul\n",
    "\n",
    "print(\"Result for combinations(2, 3) \", combinations(2, 3) )\n",
    "print(\"Result for combinations(3, 7, 4) \", combinations(3, 7, 4) )\n",
    "print(\"Result for combinations(2, 3, 4, 5) \", combinations(2, 3, 4, 5) )"
   ]
  },
  {
   "cell_type": "markdown",
   "metadata": {},
   "source": [
    "###  Q3. Create a function that takes a string as an argument and returns the Morse code equivalent.\n",
    "\n",
    "Examples\n",
    "\n",
    "encode_morse(\"EDABBIT CHALLENGE\") ➞ \". -.. .- -... -... .. -   -.-. .... .- .-.. .-.. . -. --. .\"\n",
    "\n",
    "encode_morse(\"HELP ME !\") ➞ \".... . .-.. .--.   -- .   -.-.--\"\n",
    "\n",
    "This dictionary can be used for coding:\n",
    "\n",
    "char_to_dots = {\n",
    "  'A': '.-', 'B': '-...', 'C': '-.-.', 'D': '-..', 'E': '.', 'F': '..-.',\n",
    "  'G': '--.', 'H': '....', 'I': '..', 'J': '.---', 'K': '-.-', 'L': '.-..',\n",
    "  'M': '--', 'N': '-.', 'O': '---', 'P': '.--.', 'Q': '--.-', 'R': '.-.',\n",
    "  'S': '...', 'T': '-', 'U': '..-', 'V': '...-', 'W': '.--', 'X': '-..-',\n",
    "  'Y': '-.--', 'Z': '--..', ' ': ' ', '0': '-----',\n",
    "  '1': '.----', '2': '..---', '3': '...--', '4': '....-', '5': '.....',\n",
    "  '6': '-....', '7': '--...', '8': '---..', '9': '----.',\n",
    "  '&': '.-...', \"'\": '.----.', '@': '.--.-.', ')': '-.--.-', '(': '-.--.',\n",
    "  ':': '---...', ',': '--..--', '=': '-...-', '!': '-.-.--', '.': '.-.-.-',\n",
    "  '-': '-....-', '+': '.-.-.', '\"': '.-..-.', '?': '..--..', '/': '-..-.'\n",
    "}\n"
   ]
  },
  {
   "cell_type": "code",
   "execution_count": 11,
   "metadata": {},
   "outputs": [
    {
     "name": "stdout",
     "output_type": "stream",
     "text": [
      "Morse Code for EDABBIT CHALLENGE : .-...--...-.....- -.-......-.-...-...-.--..\n",
      "Morse Code for HELP ME ! : ......-...--. --. -.-.--\n"
     ]
    }
   ],
   "source": [
    "#Intiating dcitionary for Morse Code\n",
    "char_to_dots = { 'A': '.-', 'B': '-...', 'C': '-.-.', 'D': '-..', 'E': '.', 'F': '..-.', \n",
    "                'G': '--.', 'H': '....', 'I': '..', 'J': '.---', 'K': '-.-', 'L': '.-..', \n",
    "                'M': '--', 'N': '-.', 'O': '---', 'P': '.--.', 'Q': '--.-', 'R': '.-.', \n",
    "                'S': '...', 'T': '-', 'U': '..-', 'V': '...-', 'W': '.--', 'X': '-..-', \n",
    "                'Y': '-.--', 'Z': '--..', ' ': ' ', '0': '-----', '1': '.----', '2': '..---',\n",
    "                '3': '...--', '4': '....-', '5': '.....', '6': '-....', '7': '--...', '8': '---..',\n",
    "                '9': '----.', '&': '.-...', \"'\": '.----.', '@': '.--.-.', ')': '-.--.-', \n",
    "                '(': '-.--.', ':': '---...', ',': '--..--', '=': '-...-', '!': '-.-.--', '.': '.-.-.-',\n",
    "                '-': '-....-', '+': '.-.-.', '\"': '.-..-.', '?': '..--..', '/': '-..-.' }\n",
    "\n",
    "def encode_morse(string):\n",
    "    code=\"\"\n",
    "    for char in string:\n",
    "        code+=char_to_dots[char]\n",
    "    return code\n",
    "\n",
    "print(\"Morse Code for EDABBIT CHALLENGE :\", encode_morse(\"EDABBIT CHALLENGE\"))\n",
    "print(\"Morse Code for HELP ME ! :\", encode_morse(\"HELP ME !\"))\n",
    "    \n",
    "    "
   ]
  },
  {
   "cell_type": "markdown",
   "metadata": {},
   "source": [
    "###  Q4.  Write a function that takes a number and returns True if it's a prime; False otherwise. The number can be 2^64-1 (2 to the power of 63, not XOR). With the standard technique it would be O(2^64-1), which is much too large for the 10 second time limit.\n",
    "\n",
    "Examples\n",
    "\n",
    "prime(7) ➞ True\n",
    "\n",
    "prime(56963) ➞ True\n",
    "\n",
    "prime(5151512515524) ➞ False\n",
    "\n"
   ]
  },
  {
   "cell_type": "code",
   "execution_count": 12,
   "metadata": {},
   "outputs": [
    {
     "name": "stdout",
     "output_type": "stream",
     "text": [
      "Check if 7 is prime True\n",
      "Check if 56963 is prime True\n",
      "Check if 5151512515524 is prime False\n"
     ]
    }
   ],
   "source": [
    "import math\n",
    "def prime(number):\n",
    "    flag = True\n",
    "    for divisor in range(2, int(math.sqrt(number))+1):\n",
    "        if number%divisor == 0:\n",
    "            flag = False\n",
    "    return flag\n",
    "\n",
    "print(\"Check if 7 is prime\" ,prime(7) )\n",
    "print(\"Check if 56963 is prime\" ,prime(56963) )\n",
    "print(\"Check if 5151512515524 is prime\" ,prime(5151512515524) )"
   ]
  },
  {
   "cell_type": "markdown",
   "metadata": {},
   "source": [
    "### Q5.  Create a function that converts a word to a bitstring and then to a boolean list based on the following criteria:\n",
    "\n",
    "    1. Locate the position of the letter in the English alphabet (from 1 to 26).\n",
    "    2. Odd positions will be represented as 1 and 0 otherwise.\n",
    "    3. Convert the represented positions to boolean values, 1 for True and 0 for False.\n",
    "    4. Store the conversions into an array.\n",
    "\n",
    " Examples\n",
    "\n",
    "to_boolean_list(\"deep\") ➞ [False, True, True, False]\n",
    " deep converts to 0110\n",
    " d is the 4th alphabet - 0\n",
    " e is the 5th alphabet - 1\n",
    " e is the 5th alphabet - 1\n",
    " p is the 16th alphabet - 0\n",
    " \n",
    " to_boolean_list(\"loves\") ➞ [False, True, False, True, True]\n",
    " to_boolean_list(\"tesh\") ➞ [False, True, True, False]\n",
    "\n",
    " "
   ]
  },
  {
   "cell_type": "code",
   "execution_count": 17,
   "metadata": {},
   "outputs": [
    {
     "name": "stdout",
     "output_type": "stream",
     "text": [
      "Result for deep : ['False', 'True', 'True', 'False']\n",
      "Result for loves : ['False', 'True', 'False', 'True', 'True']\n"
     ]
    }
   ],
   "source": [
    "#dictionary for alphabets \n",
    "alphabet = {'a' : 1, 'b' : 2, 'c' :3, 'd' : 4, 'e' : 5, 'f' : 6, \n",
    "        'g' : 7, 'h' : 8, 'i' : 9, 'j' : 10, 'k' : 11, 'l' : 12, \n",
    "        'm' : 13, 'n' : 14, 'o' : 15, 'p' :16, 'q' : 17, 'r' : 18, \n",
    "        's' : 19, 't' : 20, 'u' : 21, 'v' : 22, 'w' : 23, 'x' : 24, \n",
    "        'y' : 25, 'z' : 26}\n",
    "\n",
    "def to_boolean_list(string):\n",
    "    l=[]\n",
    "    for char in string:\n",
    "        if alphabet[char]%2==0:\n",
    "            l.append(\"False\")\n",
    "        else:\n",
    "            l.append(\"True\")\n",
    "    return l\n",
    "\n",
    "print(\"Result for deep :\", to_boolean_list(\"deep\"))\n",
    "print(\"Result for loves :\", to_boolean_list(\"loves\") )\n"
   ]
  },
  {
   "cell_type": "code",
   "execution_count": null,
   "metadata": {},
   "outputs": [],
   "source": []
  }
 ],
 "metadata": {
  "kernelspec": {
   "display_name": "Python 3",
   "language": "python",
   "name": "python3"
  },
  "language_info": {
   "codemirror_mode": {
    "name": "ipython",
    "version": 3
   },
   "file_extension": ".py",
   "mimetype": "text/x-python",
   "name": "python",
   "nbconvert_exporter": "python",
   "pygments_lexer": "ipython3",
   "version": "3.8.5"
  }
 },
 "nbformat": 4,
 "nbformat_minor": 4
}
