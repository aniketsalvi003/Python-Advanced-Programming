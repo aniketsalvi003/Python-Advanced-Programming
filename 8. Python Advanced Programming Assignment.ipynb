{
 "cells": [
  {
   "cell_type": "markdown",
   "metadata": {},
   "source": [
    "# 8. Python Advanced Programming Assignment"
   ]
  },
  {
   "cell_type": "markdown",
   "metadata": {},
   "source": [
    "Q1. Given a sentence as txt, return True if any two adjacent words have this property: One word ends with a vowel, while the word immediately after begins with a vowel (a e i o u).\n",
    "\n",
    "Examples\n",
    "\n",
    "vowel_links(\"a very large appliance\") ➞ True\n",
    "\n",
    "vowel_links(\"go to edabit\") ➞ True\n",
    "\n",
    "vowel_links(\"an open fire\") ➞ False\n",
    "\n",
    "vowel_links(\"a sudden applause\") ➞ False\n"
   ]
  },
  {
   "cell_type": "code",
   "execution_count": 55,
   "metadata": {},
   "outputs": [
    {
     "name": "stdout",
     "output_type": "stream",
     "text": [
      "True\n",
      "True\n",
      "False\n",
      "False\n"
     ]
    }
   ],
   "source": [
    "def vowel_links(string):\n",
    "    words=string.split(' ')\n",
    "    vowels=['a', 'e', 'i', 'o', 'u']\n",
    "    \n",
    "    for i in range(1,len(words)):\n",
    "\n",
    "        if (words[i-1][-1] in vowels):\n",
    "            if (words[i][0] in vowels):\n",
    "                return True\n",
    "    \n",
    "result=vowel_links(\"a very large appliance\")\n",
    "if result==True:\n",
    "    print(result)\n",
    "else:\n",
    "    print(\"False\")\n",
    "result=vowel_links(\"go to edabit\")\n",
    "if result==True:\n",
    "    print(result)\n",
    "else:\n",
    "    print(\"False\")\n",
    "result=vowel_links(\"an open fire\")\n",
    "if result==True:\n",
    "    print(result)\n",
    "else:\n",
    "    print(\"False\")\n",
    "result=vowel_links(\"a sudden applause\")\n",
    "if result==True:\n",
    "    print(result)\n",
    "else:\n",
    "    print(\"False\")\n"
   ]
  },
  {
   "cell_type": "raw",
   "metadata": {},
   "source": [
    "Q2. You are given three inputs: a string, one letter, and a second letter.\n",
    "\n",
    "Write a function that returns True if every instance of the first letter occurs before every instance of the second letter.\n",
    "\n",
    "Examples\n",
    "\n",
    "first_before_second(\"a rabbit jumps joyfully\", \"a\", \"j\") ➞ True\n",
    "# Every instance of \"a\" occurs before every instance of \"j\".\n",
    "\n",
    "first_before_second(\"knaves knew about waterfalls\", \"k\", \"w\") ➞  True\n",
    "\n",
    "first_before_second(\"happy birthday\", \"a\", \"y\") ➞ False\n",
    "# The \"a\" in \"birthday\" occurs after the \"y\" in \"happy\".\n",
    "\n",
    "first_before_second(\"precarious kangaroos\", \"k\", \"a\") ➞ False\n"
   ]
  },
  {
   "cell_type": "code",
   "execution_count": 3,
   "metadata": {},
   "outputs": [
    {
     "name": "stdout",
     "output_type": "stream",
     "text": [
      "True\n",
      "True\n",
      "True\n",
      "False\n"
     ]
    }
   ],
   "source": [
    "def first_before_second(string,first, second):\n",
    "    char=list(string.strip())\n",
    "    \n",
    "    if char.index(first)<char.index(second):\n",
    "        return True\n",
    "    else:\n",
    "        return False\n",
    "print(first_before_second(\"a rabbit jumps joyfully\", \"a\", \"j\"))\n",
    "print(first_before_second(\"knaves knew about waterfalls\", \"k\", \"w\"))\n",
    "print(first_before_second(\"happy birthday\", \"a\", \"y\"))\n",
    "print(first_before_second(\"precarious kangaroos\", \"k\", \"a\"))"
   ]
  },
  {
   "cell_type": "markdown",
   "metadata": {},
   "source": [
    "\n",
    "Q3. Create a function that returns the characters from a list or string r on odd or even positions, depending on the specifier s. The specifier will be \"odd\" for items on odd positions (1, 3, 5, ...) and \"even\" for items on even positions (2, 4, 6, ...).\n",
    "\n",
    "Examples\n",
    "\n",
    "char_at_pos([2, 4, 6, 8, 10], \"even\") ➞ [4, 8]\n",
    "4 & 8 occupy the 2nd & 4th positions\n",
    "\n",
    "char_at_pos(\"EDABIT\", \"odd\") ➞ \"EAI\"\n",
    "\"E\", \"A\" and \"I\" occupy the 1st, 3rd and 5th positions\n",
    "\n",
    "char_at_pos([\"A\", \"R\", \"B\", \"I\", \"T\", \"R\", \"A\", \"R\", \"I\", \"L\", \"Y\"], \"odd\") ➞ [\"A\", \"B\", \"T\", \"A\", \"I\", \"Y\"]\n"
   ]
  },
  {
   "cell_type": "code",
   "execution_count": 5,
   "metadata": {},
   "outputs": [
    {
     "name": "stdout",
     "output_type": "stream",
     "text": [
      "[4, 8]\n",
      "['E', 'A', 'I']\n",
      "['A', 'B', 'T', 'A', 'I', 'Y']\n"
     ]
    }
   ],
   "source": [
    "def char_at_pos(nums, string):\n",
    "    result=[]\n",
    "    \n",
    "    if string==\"even\":\n",
    "        for i in range(1,len(nums),2):\n",
    "            result.append(nums[i])\n",
    "    else:\n",
    "        for i in range(0,len(nums),2):\n",
    "            result.append(nums[i])\n",
    "        \n",
    "    return result\n",
    "\n",
    "print(char_at_pos([2, 4, 6, 8, 10], \"even\") )\n",
    "print(char_at_pos(\"EDABIT\", \"odd\"))\n",
    "print(char_at_pos([\"A\", \"R\", \"B\", \"I\", \"T\", \"R\", \"A\", \"R\", \"I\", \"L\", \"Y\"], \"odd\"))"
   ]
  },
  {
   "cell_type": "markdown",
   "metadata": {},
   "source": [
    "Q4. Write a function that returns the greatest common divisor of all list elements. If the greatest common divisor is 1, return 1.\n",
    "\n",
    "Examples\n",
    "\n",
    "GCD([10, 20, 40]) ➞ 10\n",
    "\n",
    "GCD([1, 2, 3, 100]) ➞ 1\n",
    "\n",
    "GCD([1024, 192, 2048, 512]) ➞ 64\n"
   ]
  },
  {
   "cell_type": "code",
   "execution_count": 13,
   "metadata": {},
   "outputs": [
    {
     "name": "stdout",
     "output_type": "stream",
     "text": [
      "10\n",
      "1\n",
      "64\n"
     ]
    }
   ],
   "source": [
    "def GCD(nums):\n",
    "    temp=max(nums)\n",
    "    \n",
    "    while temp>0:\n",
    "        q = []\n",
    "        q = [num % temp for num in nums]\n",
    "        if (all(i == 0 for i in q)):\n",
    "            return temp\n",
    "            break\n",
    "        else:\n",
    "            temp-=1\n",
    "print(GCD([10, 20, 40]))\n",
    "print(GCD([1, 2, 3, 100]))\n",
    "print(GCD([1024, 192, 2048, 512]))\n",
    "               "
   ]
  },
  {
   "cell_type": "markdown",
   "metadata": {},
   "source": [
    "Q5. A number/string is a palindrome if the digits/characters are the same when read both forward and backward. Examples include \"racecar\" and 12321. Given a positive number n, check if n or the binary representation of n is palindromic. Return the following:\n",
    "\n",
    "- \"Decimal only.\" if only n is a palindrome.\n",
    "- \"Binary only.\" if only the binary representation of n is a palindrome.\n",
    "- \"Decimal and binary.\" if both are palindromes.\n",
    "- \"Neither!\" if neither are palindromes.\n",
    "\n",
    "Examples\n",
    "\n",
    "palindrome_type(1306031) ➞ \"Decimal only.\"\n",
    "decimal = 1306031 \n",
    "binary  = \"100111110110110101111\"\n",
    "\n",
    "palindrome_type(427787) ➞ \"Binary only.\"\n",
    "decimal = 427787\n",
    "binary  = \"1101000011100001011\"\n",
    "\n",
    "palindrome_type(313) ➞ \"Decimal and binary.\"\n",
    "decimal = 313\n",
    "binary  = 100111001\n",
    "\n",
    "palindrome_type(934) ➞ \"Neither!\"\n",
    "decimal = 934\n",
    "binary  = \"1110100110\"\n"
   ]
  },
  {
   "cell_type": "code",
   "execution_count": 34,
   "metadata": {},
   "outputs": [
    {
     "name": "stdout",
     "output_type": "stream",
     "text": [
      "1306031\n",
      "10011111011011010111\n",
      "Decimal Only.\n"
     ]
    }
   ],
   "source": [
    "def palindrome_type(num):\n",
    "    binary_num=bin(num)[2:-1]\n",
    "    str_num=str(num)\n",
    "    str_binary=str(binary_num)\n",
    "    print(str_num)\n",
    "    print(str_binary)\n",
    "    \n",
    "    if str_num==str_num[::-1] and str_binary!=str_binary[::-1]:\n",
    "        print(\"Decimal Only.\")\n",
    "        \n",
    "    elif str_num!=str_num[::-1] and str_binary==str_binary[::-1]:\n",
    "        print(\"Binary Only.\")\n",
    "        \n",
    "    elif str_num==str_num[::-1] and str_binary==str_binary[::-1]:\n",
    "        print(\"Decimal and binary.\")\n",
    "    \n",
    "    else:\n",
    "        print( \"Neither!\" )\n",
    "        \n",
    "palindrome_type(1306031) "
   ]
  },
  {
   "cell_type": "code",
   "execution_count": null,
   "metadata": {},
   "outputs": [],
   "source": []
  }
 ],
 "metadata": {
  "kernelspec": {
   "display_name": "Python 3",
   "language": "python",
   "name": "python3"
  },
  "language_info": {
   "codemirror_mode": {
    "name": "ipython",
    "version": 3
   },
   "file_extension": ".py",
   "mimetype": "text/x-python",
   "name": "python",
   "nbconvert_exporter": "python",
   "pygments_lexer": "ipython3",
   "version": "3.8.5"
  }
 },
 "nbformat": 4,
 "nbformat_minor": 4
}
