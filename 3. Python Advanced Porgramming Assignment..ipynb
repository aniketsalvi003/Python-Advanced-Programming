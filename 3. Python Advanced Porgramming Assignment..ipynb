{
 "cells": [
  {
   "cell_type": "markdown",
   "metadata": {},
   "source": [
    "# 3. Python Advanced Porgramming Assignment."
   ]
  },
  {
   "cell_type": "markdown",
   "metadata": {},
   "source": [
    "### Q1. Create a function to perform basic arithmetic operations that includes addition, subtraction, multiplication and division on a string number (e.g. \"12 + 24\" or \"23 - 21\" or \"12 // 12\" or \"12 * 21\").\n",
    "\n",
    "Here, we have 1 followed by a space, operator followed by another space and 2. For the challenge, we are going to have only two numbers between 1 valid operator. The return value should be a number.\n",
    "\n",
    "eval() is not allowed. In case of division, whenever the second number equals \"0\" return -1.\n",
    "\n",
    "For example:\n",
    "\n",
    "\"15 // 0\"  ➞ -1\n",
    "\n",
    "Examples\n",
    "\n",
    "arithmetic_operation(\"12 + 12\") ➞ 24 // 12 + 12 = 24\n",
    "\n",
    "arithmetic_operation(\"12 - 12\") ➞ 24 // 12 - 12 = 0\n",
    "\n",
    "arithmetic_operation(\"12 * 12\") ➞ 144 // 12 * 12 = 144\n",
    "\n",
    "arithmetic_operation(\"12 // 0\") ➞ -1 // 12 / 0 = -1\n"
   ]
  },
  {
   "cell_type": "code",
   "execution_count": 4,
   "metadata": {},
   "outputs": [
    {
     "name": "stdout",
     "output_type": "stream",
     "text": [
      "12 + 12 : 24\n",
      "12 - 12 : 0\n",
      "12 * 12 : 144\n",
      "12 // 12 : -1\n"
     ]
    }
   ],
   "source": [
    "def arithmetic_operation(string):\n",
    "    lst=string.split(\" \")\n",
    "    if lst[1]== '+':\n",
    "        return int(lst[0])+int(lst[2])\n",
    "    elif lst[1]== '-':\n",
    "        return int(lst[0])-int(lst[2])\n",
    "    elif lst[1]== '*':\n",
    "        return int(lst[0])*int(lst[2])\n",
    "    elif lst[1]== '//':\n",
    "        if int(lst[2])==0:\n",
    "            return -1\n",
    "        else:\n",
    "            return int(lst[0])//int(lst[2])\n",
    "        \n",
    "print('12 + 12 :',arithmetic_operation(\"12 + 12\"))\n",
    "print('12 - 12 :',arithmetic_operation(\"12 - 12\"))\n",
    "print('12 * 12 :',arithmetic_operation(\"12 * 12\"))\n",
    "print('12 // 12 :',arithmetic_operation(\"12 // 0\"))"
   ]
  },
  {
   "cell_type": "markdown",
   "metadata": {},
   "source": [
    "### Q2. Write a function that takes the coordinates of three points in the form of a 2d array and returns the perimeter of the triangle. The given points are the vertices of a triangle on a two-dimensional plane.\n",
    "\n",
    "Examples\n",
    "\n",
    "perimeter( [ [15, 7], [5, 22], [11, 1] ] ) ➞ 47.08\n",
    "\n",
    "perimeter( [ [0, 0], [0, 1], [1, 0] ] ) ➞ 3.42\n",
    "\n",
    "perimeter( [ [-10, -10], [10, 10 ], [-10, 10] ] ) ➞ 68.28"
   ]
  },
  {
   "cell_type": "code",
   "execution_count": 5,
   "metadata": {},
   "outputs": [
    {
     "name": "stdout",
     "output_type": "stream",
     "text": [
      "47.08\n",
      "3.41\n",
      "3.41\n"
     ]
    }
   ],
   "source": [
    "import math\n",
    "\n",
    "def distance(coordinates):\n",
    "    \n",
    "    x1 = coordinates[0][0]\n",
    "    y1 = coordinates[1][0]\n",
    "    x2 = coordinates[0][1]\n",
    "    y2 = coordinates[1][1]\n",
    "    \n",
    "    a = (x1 - y1) * (x1 - y1)\n",
    "    b = (x2 - y2) * (x2 - y2)\n",
    "    \n",
    "    return math.sqrt(a + b)\n",
    "\n",
    "def perimeter(array):\n",
    "    \n",
    "    s1 = distance([array[0], array[1]])\n",
    "    s2 = distance([array[1], array[2]])\n",
    "    s3 = distance([array[0], array[2]])\n",
    "    \n",
    "    perimeter = s1 + s2 + s3\n",
    "    \n",
    "    return round(perimeter, 2)\n",
    "\n",
    "print(perimeter( [ [15, 7], [5, 22], [11, 1] ] ))\n",
    "print(perimeter( [ [0, 0], [0, 1], [1, 0] ]  ) )\n",
    "print(perimeter( [ [0, 0], [0, 1], [1, 0] ] ))"
   ]
  },
  {
   "cell_type": "markdown",
   "metadata": {},
   "source": [
    "### Q3. A city skyline can be represented as a 2-D list with 1s representing buildings. In the example below, the height of the tallest building is 4 (second-most right column).\n",
    "\n",
    "[[0, 0, 0, 0, 0, 0],\n",
    "[0, 0, 0, 0, 1, 0],\n",
    "[0, 0, 1, 0, 1, 0],\n",
    "[0, 1, 1, 1, 1, 0],\n",
    "[1, 1, 1, 1, 1, 1]]\n",
    "\n",
    "Create a function that takes a skyline (2-D list of 0's and 1's) and returns the height of the tallest skyscraper.\n",
    "\n",
    "Examples\n",
    "\n",
    "tallest_skyscraper([\n",
    "  [0, 0, 0, 0],\n",
    "  [0, 1, 0, 0],\n",
    "  [0, 1, 1, 0],\n",
    "  [1, 1, 1, 1]\n",
    "]) ➞ 3\n",
    "\n",
    "tallest_skyscraper([\n",
    "  [0, 1, 0, 0],\n",
    "  [0, 1, 0, 0],\n",
    "  [0, 1, 1, 0],\n",
    "  [1, 1, 1, 1]\n",
    "]) ➞ 4\n",
    "\n",
    "tallest_skyscraper([\n",
    "  [0, 0, 0, 0],\n",
    "  [0, 0, 0, 0],\n",
    "  [1, 1, 1, 0],\n",
    "  [1, 1, 1, 1]\n",
    "]) ➞ 2\n"
   ]
  },
  {
   "cell_type": "code",
   "execution_count": 7,
   "metadata": {},
   "outputs": [
    {
     "name": "stdout",
     "output_type": "stream",
     "text": [
      "Height  3\n",
      "Height : 4\n",
      "Height : 2\n"
     ]
    }
   ],
   "source": [
    "def tallest_skyscraper(list_list):\n",
    "    count=0\n",
    "    for lst in list_list:\n",
    "        if any(lst)==True:\n",
    "            count+=1\n",
    "    return count\n",
    "\n",
    "print(\"Height \",tallest_skyscraper([ [0, 0, 0, 0], [0, 1, 0, 0], [0, 1, 1, 0], [1, 1, 1, 1] ]) )\n",
    "print(\"Height :\",tallest_skyscraper([ [0, 1, 0, 0], [0, 1, 0, 0], [0, 1, 1, 0], [1, 1, 1, 1] ]) )\n",
    "print(\"Height :\",tallest_skyscraper([ [0, 0, 0, 0], [0, 0, 0, 0], [1, 1, 1, 0], [1, 1, 1, 1] ]))"
   ]
  },
  {
   "cell_type": "markdown",
   "metadata": {},
   "source": [
    "# Q4. A financial institution provides professional services to banks and claims charges from the customers based on the number of man-days provided. Internally, it has set a scheme to motivate and reward staff to meet and exceed targeted billable utilization and revenues by paying a bonus for each day claimed from customers in excess of a threshold target.\n",
    "\n",
    "This quarterly scheme is calculated with a threshold target of 32 days per quarter, and the incentive payment for each billable day in excess of such threshold target is shown as follows:\n",
    "\n",
    "Days\t                             Bonus\n",
    "0 to 32 days\t                   Zero\n",
    "33 to 40 days\t         SGD$325 per billable day\n",
    "41 to 48 days\t         SGD$550 per billable day\n",
    "Greater than 48 days      SGD$600 per billable day\n",
    "Please note that incentive payment is calculated progressively. As an example, if an employee reached total billable days of 45 in a quarter, his/her incentive payment is computed as follows:\n",
    "\n",
    "32*0 + 8*325 + 5*550 = 5350\n",
    "\n",
    "Write a function to read the billable days of an employee and return the bonus he/she has obtained in that quarter.\n",
    "\n",
    "Examples\n",
    "\n",
    "bonus(15) ➞ 0\n",
    "\n",
    "bonus(37) ➞ 1625\n",
    "\n",
    "bonus(50) ➞ 8200\n"
   ]
  },
  {
   "cell_type": "code",
   "execution_count": 11,
   "metadata": {},
   "outputs": [
    {
     "name": "stdout",
     "output_type": "stream",
     "text": [
      "Bonus : 0\n",
      "Bonus : 1625\n",
      "Bonus : 8200\n"
     ]
    }
   ],
   "source": [
    "def bonus(days):\n",
    "    if days > 48:\n",
    "        return ((days-48)*600)+(8*550)+(8*325)\n",
    "       \n",
    "    elif days>=40:\n",
    "        return ((days-40)*550)+(8*325)\n",
    "    \n",
    "    elif days >= 32:\n",
    "        return ((days-32)*325)\n",
    "    \n",
    "    else:\n",
    "        return 0\n",
    "    \n",
    "print(\"Bonus :\",bonus(15))\n",
    "print(\"Bonus :\",bonus(37))\n",
    "print(\"Bonus :\",bonus(50))"
   ]
  },
  {
   "cell_type": "markdown",
   "metadata": {},
   "source": [
    "### \n",
    "Q5. A number is said to be Disarium if the sum of its digits raised to their respective positions is the number itself.\n",
    "\n",
    "Create a function that determines whether a number is a Disarium or not.\n",
    "\n",
    "Examples\n",
    "\n",
    "is_disarium(75) ➞ False\n",
    "7^1 + 5^2 = 7 + 25 = 32\n",
    "\n",
    "is_disarium(135) ➞ True\n",
    "1^1 + 3^2 + 5^3 = 1 + 9 + 125 = 135\n",
    "\n",
    "is_disarium(544) ➞ False\n",
    "\n",
    "is_disarium(518) ➞ True\n",
    "\n",
    "is_disarium(466) ➞ False\n",
    "\n",
    "is_disarium(8) ➞ True\n"
   ]
  },
  {
   "cell_type": "code",
   "execution_count": 23,
   "metadata": {},
   "outputs": [
    {
     "name": "stdout",
     "output_type": "stream",
     "text": [
      "Disarium 544 : False\n",
      "Disarium 518 : True\n",
      "Disarium 466 : False\n",
      "Disarium 8 : True\n"
     ]
    }
   ],
   "source": [
    "def is_disarium(num):\n",
    "    t_num=num\n",
    "    sum=0\n",
    "    count=len(str(num))\n",
    "    while t_num>0:\n",
    "        sum+=(t_num%10)**count\n",
    "        t_num=t_num//10\n",
    "        count-=1\n",
    "\n",
    "    if sum==num:\n",
    "        return True\n",
    "    else:\n",
    "        return False\n",
    "    \n",
    "print(\"Disarium 544 :\",is_disarium(544))\n",
    "print(\"Disarium 518 :\",is_disarium(518))\n",
    "print(\"Disarium 466 :\",is_disarium(466))\n",
    "print(\"Disarium 8 :\",is_disarium(8))"
   ]
  },
  {
   "cell_type": "code",
   "execution_count": null,
   "metadata": {},
   "outputs": [],
   "source": []
  }
 ],
 "metadata": {
  "kernelspec": {
   "display_name": "Python 3",
   "language": "python",
   "name": "python3"
  },
  "language_info": {
   "codemirror_mode": {
    "name": "ipython",
    "version": 3
   },
   "file_extension": ".py",
   "mimetype": "text/x-python",
   "name": "python",
   "nbconvert_exporter": "python",
   "pygments_lexer": "ipython3",
   "version": "3.8.5"
  }
 },
 "nbformat": 4,
 "nbformat_minor": 4
}
