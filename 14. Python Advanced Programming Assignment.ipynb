{
 "cells": [
  {
   "cell_type": "markdown",
   "metadata": {},
   "source": [
    "# 14. Python Advanced Programming Assignment"
   ]
  },
  {
   "cell_type": "markdown",
   "metadata": {},
   "source": [
    "1. Given a list of numbers, create a function that removes 25% from every number in the list except the smallest number, and adds the total amount removed to the smallest number.\n",
    "\n",
    "Examples\n",
    "\n",
    "show_the_love([4, 1, 4]) ➞ [3, 3, 3]\n",
    "\n",
    "show_the_love([16, 10, 8]) ➞ [12, 7.5, 14.5]\n",
    "\n",
    "show_the_love([2, 100]) ➞ [27, 75]\n"
   ]
  },
  {
   "cell_type": "code",
   "execution_count": 2,
   "metadata": {},
   "outputs": [
    {
     "data": {
      "text/plain": [
       "[14.5, 7.5, 12.0]"
      ]
     },
     "execution_count": 2,
     "metadata": {},
     "output_type": "execute_result"
    }
   ],
   "source": [
    "def show_the_love(num_list):\n",
    "    num_list=sorted(num_list)\n",
    "    sum_removed=0\n",
    "    \n",
    "    for i in range(1,len(num_list)):\n",
    "        sum_removed+=(0.25*num_list[i])\n",
    "        num_list[i]=num_list[i]-(0.25*num_list[i])\n",
    "        \n",
    "    num_list[0]=num_list[0]+sum_removed\n",
    "    \n",
    "    return num_list\n",
    "\n",
    "show_the_love([16, 10, 8])"
   ]
  },
  {
   "cell_type": "markdown",
   "metadata": {},
   "source": [
    "2. Create a function that takes in two words as input and returns a list of three elements, in the following order:\n",
    "\n",
    "   1.Shared letters between two words.\n",
    "   2.Letters unique to word 1.\n",
    "   3.Letters unique to word 2.\n",
    "\n",
    "Each element should have unique letters, and have each letter be alphabetically sorted.\n",
    "\n",
    "Examples\n",
    "\n",
    "letters(\"sharp\", \"soap\") ➞ [\"aps\", \"hr\", \"o\"]\n",
    "\n",
    "letters(\"board\", \"bored\") ➞ [\"bdor\", \"a\", \"e\"]\n",
    "\n",
    "letters(\"happiness\", \"envelope\") ➞ [\"enp\", \"ahis\", \"lov\"]\n",
    "\n",
    "letters(\"kerfuffle\", \"fluffy\") ➞ [\"flu\", \"ekr\", \"y\"]\n",
    "Even with multiple matching letters (e.g. 3 f's), there should \n",
    "only exist a single \"f\" in your first element.\n",
    "\n",
    "letters(\"match\", \"ham\") ➞ [\"ahm\", \"ct\", \"\"]\n",
    "\"ham\" does not contain any letters that are not found already \n",
    "in \"match\".\n"
   ]
  },
  {
   "cell_type": "code",
   "execution_count": 11,
   "metadata": {},
   "outputs": [
    {
     "name": "stdout",
     "output_type": "stream",
     "text": [
      "['s', 'h', 'a', 'r', 'p']\n",
      "['s', 'o', 'a', 'p']\n"
     ]
    },
    {
     "data": {
      "text/plain": [
       "('sap', 'hr', 'o')"
      ]
     },
     "execution_count": 11,
     "metadata": {},
     "output_type": "execute_result"
    }
   ],
   "source": [
    "def letters(word1,word2):\n",
    "    word1_list=list(word1)\n",
    "    word2_list=list(word2)\n",
    "    print(word1_list)\n",
    "    print(word2_list)\n",
    "    \n",
    "    common=[]\n",
    "    \n",
    "    for letter in word1_list:\n",
    "        if letter in word2_list:\n",
    "            common.append(letter)\n",
    "    \n",
    "    word1_unique=[]\n",
    "    for letter in word1_list:\n",
    "        if letter not in common:\n",
    "            word1_unique.append(letter)\n",
    "        \n",
    "    word2_unique=[]\n",
    "    for letter in word2_list:\n",
    "        if letter not in common:\n",
    "            word2_unique.append(letter)\n",
    "            \n",
    "    return \"\".join(common),\"\".join(word1_unique),\"\".join(word2_unique)\n",
    "            \n",
    "letters(\"sharp\", \"soap\") "
   ]
  },
  {
   "cell_type": "markdown",
   "metadata": {},
   "source": [
    "3. Write a function that pairs the first number in an array with the last, the second number with the second to last, etc.\n",
    "\n",
    "Examples\n",
    "\n",
    "pairs([1, 2, 3, 4, 5, 6, 7]) ➞ [[1, 7], [2, 6], [3, 5], [4, 4]]\n",
    "\n",
    "pairs([1, 2, 3, 4, 5, 6]) ➞ [[1, 6], [2, 5], [3, 4]]\n",
    "\n",
    "pairs([5, 9, 8, 1, 2]) ➞ [[5, 2], [9, 1], [8, 8]]\n",
    "\n",
    "pairs([]) ➞ []"
   ]
  },
  {
   "cell_type": "code",
   "execution_count": 19,
   "metadata": {},
   "outputs": [
    {
     "data": {
      "text/plain": [
       "[[1, 7], [2, 6], [3, 5], [4, 4]]"
      ]
     },
     "execution_count": 19,
     "metadata": {},
     "output_type": "execute_result"
    }
   ],
   "source": [
    "def pairs(num_list):\n",
    "    pairs=[]\n",
    "    if len(num_list)%2==0:\n",
    "        mid=int(len(num_list)/2)\n",
    "        for i in range(mid):\n",
    "            pairs.append([num_list[i],num_list[len(num_list)-1-i]])\n",
    "    else:\n",
    "        mid=int(len(num_list)//2+1)\n",
    "        for i in range(mid):\n",
    "            pairs.append([num_list[i],num_list[len(num_list)-1-i]])\n",
    "        \n",
    "    return pairs\n",
    "\n",
    "pairs([1, 2, 3, 4, 5, 6, 7])"
   ]
  },
  {
   "cell_type": "markdown",
   "metadata": {},
   "source": [
    "4. Write a function that adds two numbers. The catch, however, is that the numbers will be strings.\n",
    "\n",
    "Examples\n",
    "\n",
    "add_str_nums(\"4\", \"5\") ➞ \"9\"\n",
    "\n",
    "add_str_nums(\"abcdefg\", \"3\") ➞ \"-1\"\n",
    "\n",
    "add_str_nums(\"1\", \"\") ➞ \"1\"\n",
    "\n",
    "add_str_nums(\"1874682736267235927359283579235789257\", \"32652983572985729\") ➞ \"1874682736267235927391936562808774986\""
   ]
  },
  {
   "cell_type": "code",
   "execution_count": 24,
   "metadata": {},
   "outputs": [
    {
     "data": {
      "text/plain": [
       "'9'"
      ]
     },
     "execution_count": 24,
     "metadata": {},
     "output_type": "execute_result"
    }
   ],
   "source": [
    "def add_str_nums(num1,num2):\n",
    "    if num1.isdigit()==False or num2.isdigit()==False:\n",
    "        return -1\n",
    "    else:\n",
    "        return str(int(num1)+int(num2))\n",
    "    \n",
    "add_str_nums(\"4\", \"5\")"
   ]
  },
  {
   "cell_type": "markdown",
   "metadata": {},
   "source": [
    "5. lPaeesh le pemu mnxit ehess rtnisg! Oh, sorry, that was supposed to say: Please help me unmix these strings!\n",
    "\n",
    "Somehow my strings have all become mixed up; every pair of characters has been swapped. Help me undo this so I can understand my strings again.\n",
    "\n",
    "Examples\n",
    "\n",
    "unmix(\"123456\") ➞ \"214365\"\n",
    "\n",
    "unmix(\"hTsii  s aimex dpus rtni.g\") ➞ \"This is a mixed up string.\"\n",
    "\n",
    "unmix(\"badce\") ➞ \"abcde\""
   ]
  },
  {
   "cell_type": "code",
   "execution_count": 35,
   "metadata": {},
   "outputs": [
    {
     "data": {
      "text/plain": [
       "'214365'"
      ]
     },
     "execution_count": 35,
     "metadata": {},
     "output_type": "execute_result"
    }
   ],
   "source": [
    "def unmix(string):\n",
    "    str_list=list(string)\n",
    "    unmix=[]\n",
    "    for i in range(0,len(str_list)-1,2):\n",
    "        unmix.append(str_list[i+1])\n",
    "        unmix.append(str_list[i])\n",
    "        \n",
    "    return \"\".join(unmix)\n",
    "   \n",
    "unmix(\"123456\") "
   ]
  }
 ],
 "metadata": {
  "kernelspec": {
   "display_name": "Python 3",
   "language": "python",
   "name": "python3"
  },
  "language_info": {
   "codemirror_mode": {
    "name": "ipython",
    "version": 3
   },
   "file_extension": ".py",
   "mimetype": "text/x-python",
   "name": "python",
   "nbconvert_exporter": "python",
   "pygments_lexer": "ipython3",
   "version": "3.8.5"
  }
 },
 "nbformat": 4,
 "nbformat_minor": 4
}
