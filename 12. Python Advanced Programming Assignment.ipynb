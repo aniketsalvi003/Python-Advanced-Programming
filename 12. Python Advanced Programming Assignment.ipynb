{
 "cells": [
  {
   "cell_type": "markdown",
   "metadata": {},
   "source": [
    "# 12. Python Advanced Programming Assignment"
   ]
  },
  {
   "cell_type": "markdown",
   "metadata": {},
   "source": [
    "1. For this challenge, forget how to add two numbers together. The best explanation on what to do for this function is this meme:\n",
    "\n",
    "Examples\n",
    "\n",
    "meme_sum(26, 39) ➞ 515\n",
    "2+3 = 5, 6+9 = 15\n",
    "26 + 39 = 515\n",
    "\n",
    "meme_sum(122, 81) ➞ 1103\n",
    "1+0 = 1, 2+8 = 10, 2+1 = 3\n",
    "122 + 81 = 1103\n",
    "\n",
    "meme_sum(1222, 30277) ➞ 31499"
   ]
  },
  {
   "cell_type": "code",
   "execution_count": 18,
   "metadata": {},
   "outputs": [
    {
     "name": "stdout",
     "output_type": "stream",
     "text": [
      "1103\n",
      "31499\n"
     ]
    }
   ],
   "source": [
    "def meme_sum(num1,num2):\n",
    "    output=[]\n",
    "    str1=\"\"\n",
    "    while num1>0 or num2>0:\n",
    "        output.append(num1%10+num2%10)\n",
    "        num1=num1//10\n",
    "        num2=num2//10\n",
    "    output=output[::-1]\n",
    "    \n",
    "    string_ints = [str(int) for int in output]\n",
    "    str_of_ints = \"\".join(string_ints)\n",
    "    return int(str_of_ints)\n",
    "           \n",
    "print(meme_sum(122, 81))\n",
    "print(meme_sum(1222, 30277) )"
   ]
  },
  {
   "cell_type": "markdown",
   "metadata": {},
   "source": [
    "2. Given an integer, create a function that returns the next prime. If the number is prime, return the number itself.\n",
    "\n",
    "Examples\n",
    "\n",
    "next_prime(12) ➞ 13\n",
    "\n",
    "next_prime(24) ➞ 29\n",
    "\n",
    "next_prime(11) ➞ 11\n",
    "\n",
    "11 is a prime, so we return the number itself."
   ]
  },
  {
   "cell_type": "code",
   "execution_count": 25,
   "metadata": {},
   "outputs": [
    {
     "name": "stdout",
     "output_type": "stream",
     "text": [
      "13\n",
      "None\n",
      "29\n",
      "None\n",
      "11\n",
      "None\n"
     ]
    }
   ],
   "source": [
    "def next_prime(num):\n",
    "    \n",
    "    output=True\n",
    "    \n",
    "    while output==True:\n",
    "        for i in range(2,num):\n",
    "            if num%i==0:\n",
    "                num+=1\n",
    "                break\n",
    "        else:\n",
    "            print(num)\n",
    "            output = False\n",
    "                \n",
    "print(next_prime(12))\n",
    "print(next_prime(24))\n",
    "print(next_prime(11))"
   ]
  },
  {
   "cell_type": "markdown",
   "metadata": {},
   "source": [
    "3. If a person traveled up a hill for 18mins at 20mph and then traveled back down the same path at 60mph then their average speed traveled was 30mph.\n",
    "\n",
    "Write a function that returns the average speed traveled given an uphill time, uphill rate and a downhill rate. Uphill time is given in minutes. Return the rate as an integer (mph). No rounding is necessary.\n",
    "\n",
    "Examples\n",
    "\n",
    "ave_spd(18, 20, 60) ➞ 30\n",
    "\n",
    "ave_spd(30, 10, 30) ➞ 15\n",
    "\n",
    "ave_spd(30, 8, 24) ➞ 12"
   ]
  },
  {
   "cell_type": "code",
   "execution_count": 28,
   "metadata": {},
   "outputs": [
    {
     "data": {
      "text/plain": [
       "12.0"
      ]
     },
     "execution_count": 28,
     "metadata": {},
     "output_type": "execute_result"
    }
   ],
   "source": [
    "def ave_spd(up_time,up_speed,down_speed):\n",
    "    distance= up_speed*(up_time/60)\n",
    "    down_time=distance/down_speed\n",
    "    \n",
    "    return (2*distance)/(down_time+(up_time/60))\n",
    "\n",
    "\n",
    "ave_spd(30, 8, 24)"
   ]
  },
  {
   "cell_type": "markdown",
   "metadata": {},
   "source": [
    "4. The Kempner Function, applied to a composite number, permits to find the smallest integer greater than zero whose factorial is exactly divided by the number.\n",
    "\n",
    "kempner(6) ➞ 3\n",
    "\n",
    "1! = 1 % 6 > 0\n",
    "2! = 2 % 6 > 0\n",
    "3! = 6 % 6 === 0\n",
    "\n",
    "kempner(10) ➞ 5\n",
    "\n",
    "1! = 1 % 10 > 0\n",
    "2! = 2 % 10 > 0\n",
    "3! = 6 % 10 > 0\n",
    "4! = 24 % 10 > 0\n",
    "5! = 120 % 10 === 0\n",
    "\n",
    "A Kempner Function applied to a prime will always return the prime itself.\n",
    "\n",
    "kempner(2) ➞ 2\n",
    "kempner(5) ➞ 5\n",
    "\n",
    "Given an integer n, implement a Kempner Function.\n",
    "\n",
    "Examples\n",
    "\n",
    "kempner(6) ➞ 3\n",
    "\n",
    "kempner(10) ➞ 5\n",
    "\n",
    "kempner(2) ➞ 2"
   ]
  },
  {
   "cell_type": "code",
   "execution_count": 31,
   "metadata": {},
   "outputs": [
    {
     "data": {
      "text/plain": [
       "3"
      ]
     },
     "execution_count": 31,
     "metadata": {},
     "output_type": "execute_result"
    }
   ],
   "source": [
    "def kempner(n, i=1, total=1):\n",
    "    if total % n == 0:\n",
    "        return max(1, i-1)\n",
    "    else:\n",
    "        return kempner(n, i+1, total*i)\n",
    "    \n",
    "kempner(6)"
   ]
  },
  {
   "cell_type": "markdown",
   "metadata": {},
   "source": [
    "5. You work in a factory, and your job is to take items from a conveyor belt and pack them into boxes. Each box can hold a maximum of 10 kgs. Given a list containing the weight (in kg) of each item, how many boxes would you need to pack all of the items?\n",
    "\n",
    "Example\n",
    "\n",
    "boxes([2, 1, 2, 5, 4, 3, 6, 1, 1, 9, 3, 2]) ➞ 5\n",
    "\n",
    " Box 1 = [2, 1, 2, 5] (10kg)\n",
    " Box 2 = [4, 3] (7kg)\n",
    " Box 3 = [6, 1, 1] (8kg)\n",
    " Box 4 = [9] (9kg)\n",
    " Box 5 = [3, 2] (5kg)\n"
   ]
  },
  {
   "cell_type": "code",
   "execution_count": 41,
   "metadata": {},
   "outputs": [
    {
     "data": {
      "text/plain": [
       "5"
      ]
     },
     "execution_count": 41,
     "metadata": {},
     "output_type": "execute_result"
    }
   ],
   "source": [
    "import math\n",
    "def boxes(weights):\n",
    "    sum=0\n",
    "    for weight in weights:\n",
    "        sum+=weight\n",
    "        \n",
    "    if sum<=10:\n",
    "        boxes=1\n",
    "    else:\n",
    "        boxes=2\n",
    "    sum_weight=0\n",
    "    \n",
    "    if sum>10:\n",
    "        for weight in weights:\n",
    "            if sum_weight<=10:\n",
    "                sum_weight+=weight\n",
    "            else:\n",
    "                sum_weight=weight\n",
    "                boxes+=1\n",
    "    return boxes\n",
    "        \n",
    "boxes([2, 1, 2, 5, 4, 3, 6, 1, 1, 9, 3, 2])"
   ]
  }
 ],
 "metadata": {
  "kernelspec": {
   "display_name": "Python 3",
   "language": "python",
   "name": "python3"
  },
  "language_info": {
   "codemirror_mode": {
    "name": "ipython",
    "version": 3
   },
   "file_extension": ".py",
   "mimetype": "text/x-python",
   "name": "python",
   "nbconvert_exporter": "python",
   "pygments_lexer": "ipython3",
   "version": "3.8.5"
  }
 },
 "nbformat": 4,
 "nbformat_minor": 4
}
