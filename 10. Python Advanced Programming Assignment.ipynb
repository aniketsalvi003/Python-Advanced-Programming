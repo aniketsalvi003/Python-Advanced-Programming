{
 "cells": [
  {
   "cell_type": "markdown",
   "metadata": {},
   "source": [
    "# 10. Python Advanced Programming Assignment"
   ]
  },
  {
   "cell_type": "raw",
   "metadata": {},
   "source": [
    "Q1. Create a function that takes the width, height and character and returns a picture frame as a 2D list.\n",
    "\n",
    "Examples\n",
    "\n",
    "get_frame(4, 5, \"#\") ➞ [\n",
    "  [\"####\"],\n",
    "  [\"#  #\"],\n",
    "  [\"#  #\"],\n",
    "  [\"#  #\"],\n",
    "  [\"####\"]\n",
    "]\n",
    "# Frame is 4 characters wide and 5 characters tall.\n",
    "\n",
    "\n",
    "get_frame(10, 3, \"*\") ➞ [\n",
    "  [\"**********\"],\n",
    "  [\"*        *\"],\n",
    "  [\"**********\"]\n",
    "]\n",
    "# Frame is 10 characters and wide and 3 characters tall.\n",
    "\n",
    "\n",
    "get_frame(2, 5, \"0\") ➞ \"invalid\"\n",
    "# Frame's width is not more than 2.\n"
   ]
  },
  {
   "cell_type": "code",
   "execution_count": 11,
   "metadata": {},
   "outputs": [
    {
     "name": "stdout",
     "output_type": "stream",
     "text": [
      "['**********']\n",
      " ['*        *']\n",
      " ['**********']\n",
      " **********\n",
      "['####']\n",
      " ['#  #']\n",
      " ['#  #']\n",
      " ['#  #']\n",
      " ['####']\n",
      " "
     ]
    }
   ],
   "source": [
    "def get_frame(width,height,char):\n",
    "    if width<2:\n",
    "        return \"invalid\"\n",
    "    \n",
    "    frame=[]\n",
    "    \n",
    "    row_first_lst=[(char*width)]\n",
    "    \n",
    "    middle=[char+(\" \"*(width -2))+char]\n",
    "    \n",
    "    for  i in range(height):\n",
    "        if i==0 or i==height-1:\n",
    "            frame.append(row_first_lst)\n",
    "        else:\n",
    "            frame.append(middle)\n",
    "            \n",
    "    for j in frame:\n",
    "        print(j, end = \"\\n \") \n",
    "        \n",
    "get_frame(10, 3, \"*\")\n",
    "print('*'*10)\n",
    "get_frame(4, 5, \"#\")"
   ]
  },
  {
   "cell_type": "markdown",
   "metadata": {},
   "source": [
    "Q2. Write three functions:\n",
    "\n",
    "  1. boolean_and\n",
    "  2. boolean_or\n",
    "  3. boolean_xor\n",
    "These functions should evaluate a list of True and False values, starting from the leftmost element and evaluating pairwise.\n",
    "\n",
    "Examples\n",
    "\n",
    "boolean_and([True, True, False, True]) ➞ False\n",
    " [True, True, False, True] => [True, False, True] => [False, True] => False\n",
    "\n",
    "boolean_or([True, True, False, False]) ➞ True\n",
    "[True, True, False, True] => [True, False, False] => [True, False] => True\n",
    "\n",
    "boolean_xor([True, True, False, False]) ➞ False\n",
    " [True, True, False, False] => [False, False, False] => [False, False] => False\n"
   ]
  },
  {
   "cell_type": "code",
   "execution_count": 17,
   "metadata": {},
   "outputs": [
    {
     "name": "stdout",
     "output_type": "stream",
     "text": [
      "False\n",
      "True\n",
      "False\n"
     ]
    }
   ],
   "source": [
    "def boolean_and(boolean):\n",
    "    temp=boolean[0]\n",
    "    \n",
    "    for i in range(1,len(boolean)):\n",
    "        if temp==True and boolean[i]==True:\n",
    "            temp=True\n",
    "        else:\n",
    "            temp=False\n",
    "            \n",
    "    return temp\n",
    "\n",
    "def boolean_or(boolean):\n",
    "    temp=boolean[0]\n",
    "    \n",
    "    for i in range(1,len(boolean)):\n",
    "        if temp==False and boolean[i]==False:\n",
    "            temp=False\n",
    "        else:\n",
    "            temp=True\n",
    "            \n",
    "    return temp\n",
    "\n",
    "def boolean_xor(boolean):\n",
    "    temp=boolean[0]\n",
    "    \n",
    "    for i in range(1,len(boolean)):\n",
    "        if temp==boolean[i]:\n",
    "            temp=False\n",
    "        else:\n",
    "            temp=True\n",
    "            \n",
    "    return temp\n",
    "\n",
    "print(boolean_and([True, True, False, True]))\n",
    "print(boolean_or([True, True, False, False]))\n",
    "print(boolean_xor([True, True, False, False]))"
   ]
  },
  {
   "cell_type": "raw",
   "metadata": {},
   "source": [
    "Q3. Create a function that creates a box based on dimension n.\n",
    "\n",
    "Examples\n",
    "\n",
    "make_box(5) ➞ [\n",
    "  \"#####\",\n",
    "  \"#   #\",\n",
    "  \"#   #\",\n",
    "  \"#   #\",\n",
    "  \"#####\"\n",
    "]\n",
    "\n",
    "make_box(3) ➞ [\n",
    "  \"###\",\n",
    "  \"# #\",\n",
    "  \"###\"\n",
    "]\n",
    "\n",
    "make_box(2) ➞ [\n",
    "  \"##\",\n",
    "  \"##\"\n",
    "]\n",
    "\n",
    "make_box(1) ➞ [\n",
    "  \"#\"\n",
    "]\n"
   ]
  },
  {
   "cell_type": "code",
   "execution_count": 22,
   "metadata": {},
   "outputs": [
    {
     "name": "stdout",
     "output_type": "stream",
     "text": [
      "#####\n",
      " #   #\n",
      " #   #\n",
      " #   #\n",
      " #####\n",
      "                     \n",
      "###\n",
      " # #\n",
      " ###\n",
      "                     \n",
      "##\n",
      " ##\n",
      "                     \n",
      "#\n",
      " "
     ]
    }
   ],
   "source": [
    "def make_box(num):\n",
    "    \n",
    "    \n",
    "    frame=[]\n",
    "    \n",
    "    row_first_lst=(\"#\"*num)\n",
    "    \n",
    "    middle=\"#\"+(\" \"*(num -2))+\"#\"\n",
    "    \n",
    "    for  i in range(num):\n",
    "        if i==0 or i==num-1:\n",
    "            frame.append(row_first_lst)\n",
    "        else:\n",
    "            frame.append(middle)\n",
    "            \n",
    "    for j in frame:\n",
    "        print(j, end = \"\\n \") \n",
    "        \n",
    "make_box(5)\n",
    "print(\" \"*20)\n",
    "make_box(3)\n",
    "print(\" \"*20)\n",
    "make_box(2)\n",
    "print(\" \"*20)\n",
    "make_box(1)"
   ]
  },
  {
   "cell_type": "markdown",
   "metadata": {},
   "source": [
    "Q4. Given a common phrase, return False if any individual word in the phrase contains duplicate letters. Return True otherwise.\n",
    "\n",
    "Examples\n",
    "\n",
    "no_duplicate_letters(\"Fortune favours the bold.\") ➞ True\n",
    "\n",
    "no_duplicate_letters(\"You can lead a horse to water, but you can't make him drink.\") ➞ True\n",
    "\n",
    "no_duplicate_letters(\"Look before you leap.\") ➞ False\n",
    "Duplicate letters in \"Look\" and \"before\".\n",
    "\n",
    "no_duplicate_letters(\"An apple a day keeps the doctor away.\") ➞ False\n",
    "Duplicate letters in \"apple\", \"keeps\", \"doctor\", and \"away\".\n"
   ]
  },
  {
   "cell_type": "code",
   "execution_count": 29,
   "metadata": {},
   "outputs": [
    {
     "name": "stdout",
     "output_type": "stream",
     "text": [
      "True\n",
      "True\n",
      "False\n",
      "False\n"
     ]
    }
   ],
   "source": [
    "def no_duplicate_letters(string):\n",
    "    words=string.split(' ')\n",
    "    result=True\n",
    "    for word in words:\n",
    "        for char in word:\n",
    "            if word.count(char)>1:\n",
    "                result= False\n",
    "                break\n",
    "    if result==False:\n",
    "        return False\n",
    "    else:\n",
    "        return True\n",
    "\n",
    "print(no_duplicate_letters(\"Fortune favours the bold.\"))\n",
    "print(no_duplicate_letters(\"You can lead a horse to water, but you can't make him drink.\"))\n",
    "print(no_duplicate_letters(\"Look before you leap.\"))\n",
    "print(no_duplicate_letters(\"Look before you leap.\"))"
   ]
  },
  {
   "cell_type": "markdown",
   "metadata": {},
   "source": [
    "Q5. Write a regular expression that will match the states that voted yes to President Trump's impeachment. You must use RegEx positive lookahead.\n",
    "\n",
    "Example\n",
    "\n",
    "txt = \"Texas = no, California = yes, Florida = yes, Michigan = no\"\n",
    "pattern = \"yourregularexpressionhere\"\n",
    "\n",
    "re.findall(pattern, txt) ➞ [\"California\", \"Florida\"]\n"
   ]
  },
  {
   "cell_type": "code",
   "execution_count": 1,
   "metadata": {},
   "outputs": [
    {
     "name": "stdout",
     "output_type": "stream",
     "text": [
      "['California', 'Florida']\n"
     ]
    }
   ],
   "source": [
    "import re\n",
    "txt = \"Texas = no, California = yes, Florida = yes, Michigan = no\"\n",
    "pattern = \"\\w+(?= = yes)\"\n",
    "print(re.findall(pattern, txt))"
   ]
  },
  {
   "cell_type": "code",
   "execution_count": null,
   "metadata": {},
   "outputs": [],
   "source": []
  }
 ],
 "metadata": {
  "kernelspec": {
   "display_name": "Python 3",
   "language": "python",
   "name": "python3"
  },
  "language_info": {
   "codemirror_mode": {
    "name": "ipython",
    "version": 3
   },
   "file_extension": ".py",
   "mimetype": "text/x-python",
   "name": "python",
   "nbconvert_exporter": "python",
   "pygments_lexer": "ipython3",
   "version": "3.8.5"
  }
 },
 "nbformat": 4,
 "nbformat_minor": 4
}
