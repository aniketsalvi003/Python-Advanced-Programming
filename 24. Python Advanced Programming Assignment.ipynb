{
 "cells": [
  {
   "cell_type": "markdown",
   "metadata": {},
   "source": [
    "# 24. Python Advanced Programming Assignment"
   ]
  },
  {
   "cell_type": "markdown",
   "metadata": {},
   "source": [
    "1. Implement a class iterator to flatten a nested list of lists of integers. Each list element is either an integer or a list. There can be many levels of nested lists in lists.\n",
    "\n",
    "The class initializes with a nested list. It also has two methods:\n",
    "\n",
    "  1. next() returns an integer in the order of appearance.\n",
    "  2. hasNext() returns True / False regarding if all integers have been retrieved or not.\n",
    "\n",
    "Write the Class implementation for three required methods.\n"
   ]
  },
  {
   "cell_type": "code",
   "execution_count": 15,
   "metadata": {},
   "outputs": [
    {
     "name": "stdout",
     "output_type": "stream",
     "text": [
      "1\n",
      "1\n",
      "2\n",
      "1\n",
      "1\n"
     ]
    }
   ],
   "source": [
    "class NestedIterator:\n",
    "    def __init__(self, nestedList):\n",
    "        self.output=[]\n",
    "        self.index=0\n",
    "        self.nestedList=nestedList\n",
    "        \n",
    "        for item in nestedList:\n",
    "            if isinstance(item, int):\n",
    "                self.output.append(item)\n",
    "            else:\n",
    "                for i in item:\n",
    "                    self.output.append(item[0])\n",
    "                \n",
    "    def next(self):\n",
    "        self.index+=1\n",
    "        return self.output[self.index-1]\n",
    "    def hasNext(self):\n",
    "        if self.index == len(self.output):\n",
    "            return False\n",
    "        return True\n",
    "    \n",
    "ob = NestedIterator([[1, 1], 2, [1, 1]])\n",
    "while ob.hasNext():\n",
    "    print(ob.next())"
   ]
  },
  {
   "cell_type": "markdown",
   "metadata": {},
   "source": [
    "2. Implement the class Shape that receives perimeter and density function into __init__ method. The list of consecutive corners defines shape of a 2-dimensional object. The density function defines the mass distribution inside the shape. To compute mass in a certain point m(x, y) = small_square * density(x, y). The __init__ method calls other internal methods that compute three characteristics of the shape:\n",
    "\n",
    "   - area\n",
    "   - total mass\n",
    "   - center of mass (xc, yc)\n",
    "\n",
    "The computational grid has distance between two neighboring points as 2 * delta, the distance between a grid point and the perimeter wall is delta."
   ]
  },
  {
   "cell_type": "code",
   "execution_count": 16,
   "metadata": {},
   "outputs": [],
   "source": [
    "class Shape:\n",
    "     def __init__(self, perimeter, density):\n",
    "            self.perimeter=perimeter\n",
    "            self.density=density\n",
    "            \n",
    "            \n",
    "    \n",
    "sh_ex1 = Shape([(1, 1), (3, 1), (3, 2), (1, 2)], lambda x, y: 100 + 100 * x)    \n",
    "    "
   ]
  },
  {
   "cell_type": "markdown",
   "metadata": {},
   "source": [
    "3. Given a 3x3 matrix of a completed tic-tac-toe game, create a function that returns whether the game is a win for \"X\", \"O\", or a \"Draw\", where \"X\" and \"O\" represent themselves on the matrix, and \"E\" represents an empty spot."
   ]
  },
  {
   "cell_type": "code",
   "execution_count": 33,
   "metadata": {},
   "outputs": [
    {
     "data": {
      "text/plain": [
       "'X'"
      ]
     },
     "execution_count": 33,
     "metadata": {},
     "output_type": "execute_result"
    }
   ],
   "source": [
    "class tic_tac_toe:\n",
    "    def __init__(self, board):\n",
    "        self.board=board\n",
    "        \n",
    "    def winner(self):\n",
    "        #for X\n",
    "        board_list=[]\n",
    "        \n",
    "        for ele in self.board:\n",
    "            for i in ele:\n",
    "                board_list.append(i)\n",
    "            \n",
    "       \n",
    "        if ((board_list[0]=='X' and board_list[1]=='X' and board_list[2]== 'X' ) or  \n",
    "\n",
    "            (board_list[3]=='X' and board_list[4]=='X' and board_list[5]=='X' ) or \n",
    "\n",
    "            (board_list[6]=='X' and board_list[7]=='X' and board_list[8]=='X' ) or\n",
    "\n",
    "            (board_list[0]=='X' and board_list[3]=='X' and board_list[6]== 'X' ) or\n",
    "\n",
    "            (board_list[1]=='X' and board_list[4]=='X' and board_list[7]=='X' ) or \n",
    "\n",
    "            (board_list[2]=='X' and board_list[5]=='X' and board_list[8]=='X' ) or \n",
    "\n",
    "            (board_list[0]=='X' and board_list[4]=='X' and board_list[8]=='X' ) or \n",
    "\n",
    "            (board_list[2]=='X' and board_list[4]=='X' and board_list[6]=='X')):\n",
    "                return 'X'\n",
    "            \n",
    "        elif ((board_list[0]=='O' and board_list[1]=='O' and board_list[2]== 'O' ) or  \n",
    "\n",
    "            (board_list[3]=='O' and board_list[4]=='O' and board_list[5]=='O' ) or \n",
    "\n",
    "            (board_list[6]=='O' and board_list[7]=='O' and board_list[8]=='O' ) or\n",
    "\n",
    "            (board_list[0]=='O' and board_list[3]=='O' and board_list[6]== 'O' ) or\n",
    "\n",
    "            (board_list[1]=='O' and board_list[4]=='O' and board_list[7]=='O' ) or \n",
    "\n",
    "            (board_list[2]=='O' and board_list[5]=='O' and board_list[8]=='O' ) or \n",
    "\n",
    "            (board_list[0]=='O' and board_list[4]=='O' and board_list[8]=='O' ) or \n",
    "\n",
    "            (board_list[2]=='O' and board_list[4]=='O' and board_list[6]=='O')):\n",
    "                \n",
    "                return \"O\"\n",
    "            \n",
    "        else:\n",
    "            return \"Draw\"\n",
    "        \n",
    "t=tic_tac_toe([\n",
    "  [\"X\", \"O\", \"X\"],\n",
    "  [\"O\", \"X\",  \"O\"],\n",
    "  [\"O\", \"X\",  \"X\"]\n",
    "]) \n",
    "t.winner()\n"
   ]
  },
  {
   "cell_type": "markdown",
   "metadata": {},
   "source": [
    "4. Your computer might have been infected by a virus! Create a function that finds the viruses in files and removes them from your computer.\n",
    "\n",
    "Examples\n",
    "\n",
    "remove_virus(\"PC Files: spotifysetup.exe, virus.exe, dog.jpg\") ➞ \"PC Files: spotifysetup.exe, dog.jpg\"\n",
    "\n",
    "remove_virus(\"PC Files: antivirus.exe, cat.pdf, lethalmalware.exe, dangerousvirus.exe \") ➞ \"PC Files: antivirus.exe, cat.pdf\"\n",
    "\n",
    "remove_virus(\"PC Files: notvirus.exe, funnycat.gif\") ➞ \"PC Files: notvirus.exe, funnycat.gif\")"
   ]
  },
  {
   "cell_type": "code",
   "execution_count": 75,
   "metadata": {},
   "outputs": [
    {
     "name": "stdout",
     "output_type": "stream",
     "text": [
      "PC Files spotifysetup.exe dog.jpg\n"
     ]
    }
   ],
   "source": [
    "import re\n",
    "\n",
    "class remove_virus:\n",
    "    \n",
    "    def __init__(self, filenames):\n",
    "        self.filenames=filenames\n",
    "        \n",
    "        self.files=[]\n",
    "        \n",
    "        x=(re.split(':|,', self.filenames))\n",
    "        \n",
    "        for i in x:\n",
    "                self.files.append(i.strip())\n",
    "        \n",
    "    def check(self):\n",
    "        \n",
    "        output=[]\n",
    "        \n",
    "        for file in self.files:\n",
    "            if file != \"virus.exe\" and file != \"lethalmalware.exe\":\n",
    "                output.append(file)\n",
    "            \n",
    "        return  \" \".join(output)\n",
    "                \n",
    "                \n",
    "        \n",
    "r= remove_virus(\"PC Files: spotifysetup.exe, virus.exe, dog.jpg\")\n",
    "print(r.check())"
   ]
  },
  {
   "cell_type": "markdown",
   "metadata": {},
   "source": [
    "5. In a video game, a meteor will fall toward the main character's home planet. Given the meteor's trajectory as a string in the form y = mx + b and the character's position as a tuple of (x, y), return True if the meteor will hit the character and False if it will not."
   ]
  },
  {
   "cell_type": "code",
   "execution_count": 100,
   "metadata": {},
   "outputs": [
    {
     "name": "stdout",
     "output_type": "stream",
     "text": [
      "['y ', ' 2', ' ', ' 5']\n"
     ]
    },
    {
     "data": {
      "text/plain": [
       "False"
      ]
     },
     "execution_count": 100,
     "metadata": {},
     "output_type": "execute_result"
    }
   ],
   "source": [
    "class will_hit:\n",
    "    def __init__(self,trajectory, position):\n",
    "        self.trajectory=trajectory\n",
    "        self.position=position\n",
    "        if \"-\" in self.trajectory:\n",
    "            self.exp=(re.split('=|x|-', self.trajectory))\n",
    "        elif \"+\" in self.trajectory:\n",
    "            self.exp=(re.split('=|x|+', self.trajectory))\n",
    "        print(self.exp)\n",
    "        \n",
    "    def evalaute(self):\n",
    "        x=self.position[0]\n",
    "        \n",
    "        if \"-\" in self.trajectory:\n",
    "            ans=int(self.exp[1])-int(self.exp[3])\n",
    "        elif \"+\" in self.trajectory:\n",
    "            ans=int(self.exp[1])+int(self.exp[3])\n",
    "        \n",
    "        if ans == self.position[1]:\n",
    "            return True\n",
    "        else:\n",
    "            return False\n",
    "        \n",
    "h=will_hit(\"y = 2x - 5\", (0, 0))     \n",
    "h.evalaute()"
   ]
  },
  {
   "cell_type": "code",
   "execution_count": null,
   "metadata": {},
   "outputs": [],
   "source": []
  }
 ],
 "metadata": {
  "kernelspec": {
   "display_name": "Python 3",
   "language": "python",
   "name": "python3"
  },
  "language_info": {
   "codemirror_mode": {
    "name": "ipython",
    "version": 3
   },
   "file_extension": ".py",
   "mimetype": "text/x-python",
   "name": "python",
   "nbconvert_exporter": "python",
   "pygments_lexer": "ipython3",
   "version": "3.8.5"
  }
 },
 "nbformat": 4,
 "nbformat_minor": 4
}
